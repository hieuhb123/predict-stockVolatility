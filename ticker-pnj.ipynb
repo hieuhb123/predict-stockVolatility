{
 "cells": [
  {
   "cell_type": "code",
   "execution_count": 1,
   "id": "7130a9eb",
   "metadata": {
    "execution": {
     "iopub.execute_input": "2025-04-13T15:28:34.483118Z",
     "iopub.status.busy": "2025-04-13T15:28:34.482815Z",
     "iopub.status.idle": "2025-04-13T15:28:54.673615Z",
     "shell.execute_reply": "2025-04-13T15:28:54.672707Z"
    },
    "papermill": {
     "duration": 20.19672,
     "end_time": "2025-04-13T15:28:54.675577",
     "exception": false,
     "start_time": "2025-04-13T15:28:34.478857",
     "status": "completed"
    },
    "tags": []
   },
   "outputs": [
    {
     "name": "stderr",
     "output_type": "stream",
     "text": [
      "2025-04-13 15:28:39.841266: E external/local_xla/xla/stream_executor/cuda/cuda_fft.cc:477] Unable to register cuFFT factory: Attempting to register factory for plugin cuFFT when one has already been registered\n",
      "WARNING: All log messages before absl::InitializeLog() is called are written to STDERR\n",
      "E0000 00:00:1744558120.087967      13 cuda_dnn.cc:8310] Unable to register cuDNN factory: Attempting to register factory for plugin cuDNN when one has already been registered\n",
      "E0000 00:00:1744558120.162365      13 cuda_blas.cc:1418] Unable to register cuBLAS factory: Attempting to register factory for plugin cuBLAS when one has already been registered\n"
     ]
    }
   ],
   "source": [
    "import pandas as pd\n",
    "import numpy as np\n",
    "import matplotlib.pyplot as plt\n",
    "from sklearn.preprocessing import MinMaxScaler\n",
    "from tensorflow.keras.models import Sequential\n",
    "from tensorflow.keras.layers import LSTM, Dense, Dropout\n",
    "from sklearn.model_selection import train_test_split\n",
    "from sklearn.metrics import mean_squared_error, mean_absolute_error"
   ]
  },
  {
   "cell_type": "code",
   "execution_count": 2,
   "id": "e09c8ff8",
   "metadata": {
    "execution": {
     "iopub.execute_input": "2025-04-13T15:28:54.682243Z",
     "iopub.status.busy": "2025-04-13T15:28:54.681668Z",
     "iopub.status.idle": "2025-04-13T15:28:55.016639Z",
     "shell.execute_reply": "2025-04-13T15:28:55.015507Z"
    },
    "papermill": {
     "duration": 0.340152,
     "end_time": "2025-04-13T15:28:55.018485",
     "exception": false,
     "start_time": "2025-04-13T15:28:54.678333",
     "status": "completed"
    },
    "tags": []
   },
   "outputs": [],
   "source": [
    "# Load the dataset\n",
    "df = pd.read_csv(\"/kaggle/input/stock-code/PNJ.csv\")\n",
    "\n",
    "# Calculate log returns and volatility\n",
    "# df['Log_Return'] = np.log(df['Close'] / df['Close'].shift(1))\n",
    "\n",
    "df['Log_Return'] = df['Close'] - df['Close'].shift(1)\n",
    "df['Volatility'] = df['Log_Return'].rolling(window=5).std()\n",
    "\n",
    "# Drop NaNs after volatility calculation\n",
    "df = df.dropna().reset_index(drop=True)"
   ]
  },
  {
   "cell_type": "code",
   "execution_count": 3,
   "id": "cb5fb3c3",
   "metadata": {
    "execution": {
     "iopub.execute_input": "2025-04-13T15:28:55.024603Z",
     "iopub.status.busy": "2025-04-13T15:28:55.024261Z",
     "iopub.status.idle": "2025-04-13T15:28:55.286598Z",
     "shell.execute_reply": "2025-04-13T15:28:55.285373Z"
    },
    "papermill": {
     "duration": 0.26795,
     "end_time": "2025-04-13T15:28:55.288945",
     "exception": false,
     "start_time": "2025-04-13T15:28:55.020995",
     "status": "completed"
    },
    "tags": []
   },
   "outputs": [],
   "source": [
    "# Select features and target\n",
    "features = ['Open', 'High', 'Low', 'Close', 'Volume']\n",
    "target = 'Volatility'\n",
    "\n",
    "# Normalize features\n",
    "scaler = MinMaxScaler()\n",
    "scaled_features = scaler.fit_transform(df[features])\n",
    "\n",
    "# Prepare sequences for LSTM\n",
    "def create_sequences(data, target, seq_length):\n",
    "    X, y = [], []\n",
    "    for i in range(seq_length, len(data)):\n",
    "        X.append(data[i-seq_length:i])\n",
    "        y.append(target[i])\n",
    "    return np.array(X), np.array(y)\n",
    "\n",
    "seq_length = 30\n",
    "X, y = create_sequences(scaled_features, df[target].values, seq_length)"
   ]
  },
  {
   "cell_type": "code",
   "execution_count": 4,
   "id": "6b50b72b",
   "metadata": {
    "execution": {
     "iopub.execute_input": "2025-04-13T15:28:55.296603Z",
     "iopub.status.busy": "2025-04-13T15:28:55.296248Z",
     "iopub.status.idle": "2025-04-13T15:28:55.379279Z",
     "shell.execute_reply": "2025-04-13T15:28:55.377901Z"
    },
    "papermill": {
     "duration": 0.089735,
     "end_time": "2025-04-13T15:28:55.381447",
     "exception": false,
     "start_time": "2025-04-13T15:28:55.291712",
     "status": "completed"
    },
    "tags": []
   },
   "outputs": [],
   "source": [
    "# Split into train/test sets\n",
    "X_train, X_test, y_train, y_test = train_test_split(X, y, test_size=0.2, shuffle=False)"
   ]
  },
  {
   "cell_type": "code",
   "execution_count": 5,
   "id": "323157c0",
   "metadata": {
    "execution": {
     "iopub.execute_input": "2025-04-13T15:28:55.387648Z",
     "iopub.status.busy": "2025-04-13T15:28:55.387225Z",
     "iopub.status.idle": "2025-04-13T15:28:55.555051Z",
     "shell.execute_reply": "2025-04-13T15:28:55.554078Z"
    },
    "papermill": {
     "duration": 0.173607,
     "end_time": "2025-04-13T15:28:55.557527",
     "exception": false,
     "start_time": "2025-04-13T15:28:55.383920",
     "status": "completed"
    },
    "tags": []
   },
   "outputs": [
    {
     "name": "stderr",
     "output_type": "stream",
     "text": [
      "2025-04-13 15:28:55.395483: E external/local_xla/xla/stream_executor/cuda/cuda_driver.cc:152] failed call to cuInit: INTERNAL: CUDA error: Failed call to cuInit: UNKNOWN ERROR (303)\n",
      "/usr/local/lib/python3.11/dist-packages/keras/src/layers/rnn/rnn.py:204: UserWarning: Do not pass an `input_shape`/`input_dim` argument to a layer. When using Sequential models, prefer using an `Input(shape)` object as the first layer in the model instead.\n",
      "  super().__init__(**kwargs)\n"
     ]
    }
   ],
   "source": [
    "# Build LSTM model\n",
    "model = Sequential()\n",
    "model.add(LSTM(64, return_sequences=True, input_shape=(X.shape[1], X.shape[2])))\n",
    "model.add(Dropout(0.2))\n",
    "model.add(LSTM(32))\n",
    "model.add(Dropout(0.2))\n",
    "model.add(Dense(1))\n",
    "\n",
    "model.compile(optimizer='adam', loss='mse')"
   ]
  },
  {
   "cell_type": "code",
   "execution_count": 6,
   "id": "d0a7f476",
   "metadata": {
    "execution": {
     "iopub.execute_input": "2025-04-13T15:28:55.564577Z",
     "iopub.status.busy": "2025-04-13T15:28:55.564240Z",
     "iopub.status.idle": "2025-04-13T16:12:10.478330Z",
     "shell.execute_reply": "2025-04-13T16:12:10.477348Z"
    },
    "papermill": {
     "duration": 2594.91936,
     "end_time": "2025-04-13T16:12:10.480243",
     "exception": false,
     "start_time": "2025-04-13T15:28:55.560883",
     "status": "completed"
    },
    "tags": []
   },
   "outputs": [
    {
     "name": "stdout",
     "output_type": "stream",
     "text": [
      "Epoch 1/20\n",
      "\u001b[1m6264/6264\u001b[0m \u001b[32m━━━━━━━━━━━━━━━━━━━━\u001b[0m\u001b[37m\u001b[0m \u001b[1m137s\u001b[0m 21ms/step - loss: 0.3255 - val_loss: 0.1108\n",
      "Epoch 2/20\n",
      "\u001b[1m6264/6264\u001b[0m \u001b[32m━━━━━━━━━━━━━━━━━━━━\u001b[0m\u001b[37m\u001b[0m \u001b[1m129s\u001b[0m 21ms/step - loss: 0.3047 - val_loss: 0.0177\n",
      "Epoch 3/20\n",
      "\u001b[1m6264/6264\u001b[0m \u001b[32m━━━━━━━━━━━━━━━━━━━━\u001b[0m\u001b[37m\u001b[0m \u001b[1m127s\u001b[0m 20ms/step - loss: 0.1660 - val_loss: 0.0093\n",
      "Epoch 4/20\n",
      "\u001b[1m6264/6264\u001b[0m \u001b[32m━━━━━━━━━━━━━━━━━━━━\u001b[0m\u001b[37m\u001b[0m \u001b[1m127s\u001b[0m 20ms/step - loss: 0.0588 - val_loss: 0.0060\n",
      "Epoch 5/20\n",
      "\u001b[1m6264/6264\u001b[0m \u001b[32m━━━━━━━━━━━━━━━━━━━━\u001b[0m\u001b[37m\u001b[0m \u001b[1m143s\u001b[0m 20ms/step - loss: 0.0410 - val_loss: 0.0050\n",
      "Epoch 6/20\n",
      "\u001b[1m6264/6264\u001b[0m \u001b[32m━━━━━━━━━━━━━━━━━━━━\u001b[0m\u001b[37m\u001b[0m \u001b[1m128s\u001b[0m 20ms/step - loss: 0.0358 - val_loss: 0.0051\n",
      "Epoch 7/20\n",
      "\u001b[1m6264/6264\u001b[0m \u001b[32m━━━━━━━━━━━━━━━━━━━━\u001b[0m\u001b[37m\u001b[0m \u001b[1m126s\u001b[0m 20ms/step - loss: 0.0339 - val_loss: 0.0038\n",
      "Epoch 8/20\n",
      "\u001b[1m6264/6264\u001b[0m \u001b[32m━━━━━━━━━━━━━━━━━━━━\u001b[0m\u001b[37m\u001b[0m \u001b[1m127s\u001b[0m 20ms/step - loss: 0.0330 - val_loss: 0.0044\n",
      "Epoch 9/20\n",
      "\u001b[1m6264/6264\u001b[0m \u001b[32m━━━━━━━━━━━━━━━━━━━━\u001b[0m\u001b[37m\u001b[0m \u001b[1m127s\u001b[0m 20ms/step - loss: 0.0316 - val_loss: 0.0033\n",
      "Epoch 10/20\n",
      "\u001b[1m6264/6264\u001b[0m \u001b[32m━━━━━━━━━━━━━━━━━━━━\u001b[0m\u001b[37m\u001b[0m \u001b[1m129s\u001b[0m 21ms/step - loss: 0.0313 - val_loss: 0.0031\n",
      "Epoch 11/20\n",
      "\u001b[1m6264/6264\u001b[0m \u001b[32m━━━━━━━━━━━━━━━━━━━━\u001b[0m\u001b[37m\u001b[0m \u001b[1m128s\u001b[0m 20ms/step - loss: 0.0303 - val_loss: 0.0029\n",
      "Epoch 12/20\n",
      "\u001b[1m6264/6264\u001b[0m \u001b[32m━━━━━━━━━━━━━━━━━━━━\u001b[0m\u001b[37m\u001b[0m \u001b[1m130s\u001b[0m 21ms/step - loss: 0.0302 - val_loss: 0.0027\n",
      "Epoch 13/20\n",
      "\u001b[1m6264/6264\u001b[0m \u001b[32m━━━━━━━━━━━━━━━━━━━━\u001b[0m\u001b[37m\u001b[0m \u001b[1m127s\u001b[0m 20ms/step - loss: 0.0295 - val_loss: 0.0029\n",
      "Epoch 14/20\n",
      "\u001b[1m6264/6264\u001b[0m \u001b[32m━━━━━━━━━━━━━━━━━━━━\u001b[0m\u001b[37m\u001b[0m \u001b[1m127s\u001b[0m 20ms/step - loss: 0.0294 - val_loss: 0.0030\n",
      "Epoch 15/20\n",
      "\u001b[1m6264/6264\u001b[0m \u001b[32m━━━━━━━━━━━━━━━━━━━━\u001b[0m\u001b[37m\u001b[0m \u001b[1m131s\u001b[0m 21ms/step - loss: 0.0290 - val_loss: 0.0026\n",
      "Epoch 16/20\n",
      "\u001b[1m6264/6264\u001b[0m \u001b[32m━━━━━━━━━━━━━━━━━━━━\u001b[0m\u001b[37m\u001b[0m \u001b[1m130s\u001b[0m 21ms/step - loss: 0.0281 - val_loss: 0.0030\n",
      "Epoch 17/20\n",
      "\u001b[1m6264/6264\u001b[0m \u001b[32m━━━━━━━━━━━━━━━━━━━━\u001b[0m\u001b[37m\u001b[0m \u001b[1m131s\u001b[0m 21ms/step - loss: 0.0285 - val_loss: 0.0025\n",
      "Epoch 18/20\n",
      "\u001b[1m6264/6264\u001b[0m \u001b[32m━━━━━━━━━━━━━━━━━━━━\u001b[0m\u001b[37m\u001b[0m \u001b[1m130s\u001b[0m 21ms/step - loss: 0.0278 - val_loss: 0.0024\n",
      "Epoch 19/20\n",
      "\u001b[1m6264/6264\u001b[0m \u001b[32m━━━━━━━━━━━━━━━━━━━━\u001b[0m\u001b[37m\u001b[0m \u001b[1m130s\u001b[0m 21ms/step - loss: 0.0281 - val_loss: 0.0025\n",
      "Epoch 20/20\n",
      "\u001b[1m6264/6264\u001b[0m \u001b[32m━━━━━━━━━━━━━━━━━━━━\u001b[0m\u001b[37m\u001b[0m \u001b[1m130s\u001b[0m 21ms/step - loss: 0.0278 - val_loss: 0.0026\n"
     ]
    }
   ],
   "source": [
    "# Train the model\n",
    "history = model.fit(X_train, y_train, epochs=20, batch_size=16, validation_data=(X_test, y_test), verbose=1)\n"
   ]
  },
  {
   "cell_type": "code",
   "execution_count": 7,
   "id": "d3ceac50",
   "metadata": {
    "execution": {
     "iopub.execute_input": "2025-04-13T16:12:14.942567Z",
     "iopub.status.busy": "2025-04-13T16:12:14.942176Z",
     "iopub.status.idle": "2025-04-13T16:12:22.283175Z",
     "shell.execute_reply": "2025-04-13T16:12:22.282231Z"
    },
    "papermill": {
     "duration": 9.516762,
     "end_time": "2025-04-13T16:12:22.284957",
     "exception": false,
     "start_time": "2025-04-13T16:12:12.768195",
     "status": "completed"
    },
    "tags": []
   },
   "outputs": [
    {
     "name": "stdout",
     "output_type": "stream",
     "text": [
      "\u001b[1m783/783\u001b[0m \u001b[32m━━━━━━━━━━━━━━━━━━━━\u001b[0m\u001b[37m\u001b[0m \u001b[1m7s\u001b[0m 8ms/step\n"
     ]
    }
   ],
   "source": [
    "# Predict\n",
    "y_pred = model.predict(X_test)"
   ]
  },
  {
   "cell_type": "code",
   "execution_count": 8,
   "id": "1389657e",
   "metadata": {
    "execution": {
     "iopub.execute_input": "2025-04-13T16:12:26.697737Z",
     "iopub.status.busy": "2025-04-13T16:12:26.697374Z",
     "iopub.status.idle": "2025-04-13T16:12:26.710020Z",
     "shell.execute_reply": "2025-04-13T16:12:26.709051Z"
    },
    "papermill": {
     "duration": 2.2607,
     "end_time": "2025-04-13T16:12:26.711538",
     "exception": false,
     "start_time": "2025-04-13T16:12:24.450838",
     "status": "completed"
    },
    "tags": []
   },
   "outputs": [
    {
     "name": "stdout",
     "output_type": "stream",
     "text": [
      "MSE: 0.002575\n",
      "RMSE: 0.050740\n",
      "MAE: 0.028794\n"
     ]
    }
   ],
   "source": [
    "# Evaluation\n",
    "mse = mean_squared_error(y_pred, y_test)\n",
    "rmse = np.sqrt(mse)\n",
    "mae = mean_absolute_error(y_pred, y_test)\n",
    "\n",
    "print(f\"MSE: {mse:.6f}\")\n",
    "print(f\"RMSE: {rmse:.6f}\")\n",
    "print(f\"MAE: {mae:.6f}\")"
   ]
  },
  {
   "cell_type": "code",
   "execution_count": 9,
   "id": "122f5424",
   "metadata": {
    "execution": {
     "iopub.execute_input": "2025-04-13T16:12:31.179694Z",
     "iopub.status.busy": "2025-04-13T16:12:31.179339Z",
     "iopub.status.idle": "2025-04-13T16:12:31.562153Z",
     "shell.execute_reply": "2025-04-13T16:12:31.561252Z"
    },
    "papermill": {
     "duration": 2.657876,
     "end_time": "2025-04-13T16:12:31.563836",
     "exception": false,
     "start_time": "2025-04-13T16:12:28.905960",
     "status": "completed"
    },
    "tags": []
   },
   "outputs": [
    {
     "data": {
      "image/png": "[encoded data removed]",
      "text/plain": [
       "<Figure size 1200x600 with 1 Axes>"
      ]
     },
     "metadata": {},
     "output_type": "display_data"
    }
   ],
   "source": [
    "# Plot results\n",
    "plt.figure(figsize=(12,6))\n",
    "plt.plot(y_test, label='Actual Volatility')\n",
    "plt.plot(y_pred, label='Predicted Volatility')\n",
    "plt.title(\"Volatility Forecast\")\n",
    "plt.legend()\n",
    "plt.show()"
   ]
  }
 ],
 "metadata": {
  "kaggle": {
   "accelerator": "none",
   "dataSources": [
    {
     "datasetId": 7130987,
     "sourceId": 11387635,
     "sourceType": "datasetVersion"
    }
   ],
   "dockerImageVersionId": 31012,
   "isGpuEnabled": false,
   "isInternetEnabled": false,
   "language": "python",
   "sourceType": "notebook"
  },
  "kernelspec": {
   "display_name": "Python 3",
   "language": "python",
   "name": "python3"
  },
  "language_info": {
   "codemirror_mode": {
    "name": "ipython",
    "version": 3
   },
   "file_extension": ".py",
   "mimetype": "text/x-python",
   "name": "python",
   "nbconvert_exporter": "python",
   "pygments_lexer": "ipython3",
   "version": "3.11.11"
  },
  "papermill": {
   "default_parameters": {},
   "duration": 2647.643549,
   "end_time": "2025-04-13T16:12:36.719684",
   "environment_variables": {},
   "exception": null,
   "input_path": "__notebook__.ipynb",
   "output_path": "__notebook__.ipynb",
   "parameters": {},
   "start_time": "2025-04-13T15:28:29.076135",
   "version": "2.6.0"
  }
 },
 "nbformat": 4,
 "nbformat_minor": 5
}
